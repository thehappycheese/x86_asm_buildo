{
 "cells": [
  {
   "cell_type": "markdown",
   "metadata": {},
   "source": [
    "# Try to locate `printf`\n",
    "\n",
    "I did not succeed in finding printf. I gave up trying to import it.\n",
    "But thats fine, I seem to be able to write binary output to files. Thats good enough to get the job done! So i abandoned the search here."
   ]
  },
  {
   "cell_type": "code",
   "execution_count": null,
   "metadata": {},
   "outputs": [],
   "source": [
    "from pathlib import Path\n",
    "from wideprint import print_columns\n",
    "import subprocess"
   ]
  },
  {
   "cell_type": "code",
   "execution_count": null,
   "metadata": {},
   "outputs": [],
   "source": [
    "lib_dir = Path(r\"C:\\Program Files\\Microsoft Visual Studio\\2022\\Community\\VC\\Tools\\MSVC\\14.40.33807\\lib\\x86\")\n",
    "libs = list(lib_dir.glob(\"*.lib\"))\n",
    "\n",
    "print_columns(list(sorted(lib.stem for lib in libs)),columns=4)"
   ]
  },
  {
   "cell_type": "code",
   "execution_count": null,
   "metadata": {},
   "outputs": [],
   "source": [
    "dumped = subprocess.run(\n",
    "    [\n",
    "        r\"C:\\Program Files\\Microsoft Visual Studio\\2022\\Community\\VC\\Tools\\MSVC\\14.40.33807\\bin\\Hostx86\\x86\\dumpbin.exe\",\n",
    "        \"/symbols\",\n",
    "        \"/nologo\",\n",
    "        \"/exports\",\n",
    "        next(item for item in libs if item.stem ==\"aligned_new\")\n",
    "    ],\n",
    "    capture_output=True,\n",
    "    text=True\n",
    ")\n",
    "print(dumped.stdout)"
   ]
  },
  {
   "cell_type": "code",
   "execution_count": null,
   "metadata": {},
   "outputs": [],
   "source": [
    "lib_dir = Path(\"M:\\clang+llvm-18.1.1-x86_64-pc-windows-msvc\\lib\")\n",
    "libs = list(lib_dir.glob(\"*.lib\"))\n",
    "print_columns(list(lib.stem for lib in libs), columns=5)"
   ]
  },
  {
   "cell_type": "code",
   "execution_count": null,
   "metadata": {},
   "outputs": [],
   "source": [
    "dumped = subprocess.run(\n",
    "    [\n",
    "        r\"C:\\Program Files\\Microsoft Visual Studio\\2022\\Community\\VC\\Tools\\MSVC\\14.40.33807\\bin\\Hostx86\\x86\\dumpbin.exe\",\n",
    "        \"/symbols\",\n",
    "        \"/nologo\",\n",
    "        \"/exports\",\n",
    "        next(item for item in libs if item.stem ==\"lldCommon\")\n",
    "    ],\n",
    "    capture_output=True,\n",
    "    text=True\n",
    ")\n",
    "print(\"\\n\".join(line for line in dumped.stdout.splitlines() if \"printf\" in line))"
   ]
  }
 ],
 "metadata": {
  "kernelspec": {
   "display_name": "Python 3",
   "language": "python",
   "name": "python3"
  },
  "language_info": {
   "codemirror_mode": {
    "name": "ipython",
    "version": 3
   },
   "file_extension": ".py",
   "mimetype": "text/x-python",
   "name": "python",
   "nbconvert_exporter": "python",
   "pygments_lexer": "ipython3",
   "version": "3.12.2"
  }
 },
 "nbformat": 4,
 "nbformat_minor": 2
}
