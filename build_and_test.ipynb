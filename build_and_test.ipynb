{
 "cells": [
  {
   "cell_type": "markdown",
   "metadata": {},
   "source": [
    "# Build and Test Experiments\n",
    "\n",
    "## `x86` assembly with `nostd` and `kernel32.lib`\n",
    "\n",
    "Uses my fantastic one of a kind build script `BuildO`!\n",
    "\n",
    "Because I will never be persuaded to use Visual Studio again! And besides, you\n",
    "will never replicate my build process on your own machine, so why should you be\n",
    "able to understand my build script? Creating unintelligible build scripts seems\n",
    "to be lesson one in assembly. Yay for assembly."
   ]
  },
  {
   "cell_type": "code",
   "execution_count": 1,
   "metadata": {},
   "outputs": [],
   "source": [
    "import os\n",
    "import struct\n",
    "from pathlib import Path\n",
    "\n",
    "from buildo import BuildO, LibO, MSVC_Linker, NASM_Assembler, cleanup"
   ]
  },
  {
   "cell_type": "code",
   "execution_count": 2,
   "metadata": {},
   "outputs": [
    {
     "name": "stdout",
     "output_type": "stream",
     "text": [
      "The following files will be deleted:\n",
      "    01_exit42\\main.obj\n",
      "    02_exit_arg\\main.obj\n",
      "    03_include_test\\main.obj\n",
      "    04_hello_world\\main.obj\n",
      "    05_hello_world_repeat\\main.obj\n",
      "    07_write_out_float\\main.obj\n",
      "    01_exit42\\main.exe\n",
      "    02_exit_arg\\main.exe\n",
      "    03_include_test\\main.exe\n",
      "    04_hello_world\\main.exe\n",
      "    05_hello_world_repeat\\main.exe\n",
      "    07_write_out_float\\main.exe\n",
      "Done\n"
     ]
    }
   ],
   "source": [
    "cleanup(\".\")"
   ]
  },
  {
   "cell_type": "code",
   "execution_count": 3,
   "metadata": {},
   "outputs": [],
   "source": [
    "buildo = BuildO(\n",
    "    linko = MSVC_Linker(\n",
    "        r\"C:\\Program Files\\Microsoft Visual Studio\\2022\\Community\\VC\\Tools\\MSVC\\14.40.33807\\bin\\Hostx86\\x86\\link.exe\"\n",
    "    )\n",
    "    .with_no_default_lib()\n",
    "    .with_entry_point(\"start\")\n",
    "    .with_libo(\n",
    "        LibO(r\"C:\\Program Files (x86)\\Windows Kits\\10\\Lib\\10.0.26100.0\\um\\x86\")\n",
    "        .with_lib(\"Kernel32.Lib\")\n",
    "    ),\n",
    "    assemblo = NASM_Assembler(\n",
    "        os.path.expandvars(r\"%LOCALAPPDATA%\\bin\\NASM\\nasm.EXE\")\n",
    "    ),\n",
    ")"
   ]
  },
  {
   "cell_type": "code",
   "execution_count": 4,
   "metadata": {},
   "outputs": [
    {
     "name": "stdout",
     "output_type": "stream",
     "text": [
      "Return Code: 42\n"
     ]
    }
   ],
   "source": [
    "buildo.build(\"./01_exit42/main.asm\").run_print()"
   ]
  },
  {
   "cell_type": "code",
   "execution_count": 5,
   "metadata": {},
   "outputs": [
    {
     "name": "stdout",
     "output_type": "stream",
     "text": [
      "b'\"M:\\\\'\n"
     ]
    }
   ],
   "source": [
    "# this demo gets a pointer to the arguments address, and simply loads the first 4 bytes into\n",
    "# the return code as an integer.\n",
    "# the result is the start of the name of the exe file.\n",
    "# Or it may be the start of the full path depending on how it was called.\n",
    "result = buildo.build(\"./02_exit_arg/main.asm\").run()\n",
    "# unpack 4 bytes as an int each from 32 bit integer string\n",
    "chars =  int(result.returncode).to_bytes(4, byteorder='little', signed=False)\n",
    "print(chars)"
   ]
  },
  {
   "cell_type": "code",
   "execution_count": 6,
   "metadata": {},
   "outputs": [
    {
     "name": "stdout",
     "output_type": "stream",
     "text": [
      "     StdOut: Hello, World!\n",
      "\u0000\n"
     ]
    }
   ],
   "source": [
    "buildo.build(\"./03_include_test/main.asm\").run_print()"
   ]
  },
  {
   "cell_type": "code",
   "execution_count": 7,
   "metadata": {},
   "outputs": [
    {
     "name": "stdout",
     "output_type": "stream",
     "text": [
      "     StdOut: Hello, World!\n",
      "\u0000\n"
     ]
    }
   ],
   "source": [
    "buildo.build(\"./04_hello_world/main.asm\").run_print()"
   ]
  },
  {
   "cell_type": "code",
   "execution_count": 8,
   "metadata": {},
   "outputs": [
    {
     "name": "stdout",
     "output_type": "stream",
     "text": [
      "     StdOut: Hello, World!\n",
      "\u0000Hello, World!\n",
      "\u0000Hello, World!\n",
      "\u0000Hello, World!\n",
      "\u0000Hello, World!\n",
      "\u0000Hello, World!\n",
      "\u0000Hello, World!\n",
      "\u0000Hello, World!\n",
      "\u0000Hello, World!\n",
      "\u0000Hello, World!\n",
      "\u0000\n"
     ]
    }
   ],
   "source": [
    "buildo.build(\"./05_hello_world_repeat/main.asm\").run_print()"
   ]
  },
  {
   "cell_type": "code",
   "execution_count": 9,
   "metadata": {},
   "outputs": [],
   "source": [
    "# Fail; seems impossible to get prinf to import ??\n",
    "\n",
    "# buildo.with_linko(\n",
    "#     buildo\n",
    "#     .linko\n",
    "#     # .with_libo(\n",
    "#     #     LibO(r\"C:\\Program Files\\Microsoft Visual Studio\\2022\\Community\\VC\\Tools\\MSVC\\14.40.33807\\lib\\x86\")\n",
    "#     #     .with_lib(\"libvcruntime.lib\") # printf ????!\n",
    "#     # )\n",
    "#     .with_default_lib()\n",
    "# ).with_verbose(True).build(\"06_c_msvcrt_print_float_test/main.asm\").run_print()"
   ]
  },
  {
   "cell_type": "code",
   "execution_count": 10,
   "metadata": {},
   "outputs": [
    {
     "name": "stdout",
     "output_type": "stream",
     "text": [
      "\"M:\\GIT\\x86 exploration\\07_write_out_float\\main.exe\"\n",
      "Hello, World!\n",
      "Tã¥›Ä \t@\n",
      "float output:  3.141\n"
     ]
    }
   ],
   "source": [
    "buildo.build(\"./07_write_out_float/main.asm\").run_print()\n",
    "print(Path(\"./07_write_out_float/cheese_out.txt\").read_text())\n",
    "print(\"float output: \",struct.unpack(\n",
    "    \"d\",\n",
    "    Path(\"./07_write_out_float/cheese_out.txt\").read_bytes()[-8:]\n",
    ")[0])"
   ]
  }
 ],
 "metadata": {
  "kernelspec": {
   "display_name": "Python 3",
   "language": "python",
   "name": "python3"
  },
  "language_info": {
   "codemirror_mode": {
    "name": "ipython",
    "version": 3
   },
   "file_extension": ".py",
   "mimetype": "text/x-python",
   "name": "python",
   "nbconvert_exporter": "python",
   "pygments_lexer": "ipython3",
   "version": "3.12.2"
  }
 },
 "nbformat": 4,
 "nbformat_minor": 2
}
